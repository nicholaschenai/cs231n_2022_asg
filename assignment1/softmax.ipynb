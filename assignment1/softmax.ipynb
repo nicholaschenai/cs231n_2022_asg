{
 "cells": [
  {
   "cell_type": "code",
   "execution_count": 1,
   "id": "161a3aa0",
   "metadata": {},
   "outputs": [],
   "source": [
    "# This mounts your Google Drive to the Colab VM.\n",
    "# from google.colab import drive\n",
    "# drive.mount('/content/drive')\n",
    "\n",
    "# TODO: Enter the foldername in your Drive where you have saved the unzipped\n",
    "# assignment folder, e.g. 'cs231n/assignments/assignment1/'\n",
    "# FOLDERNAME = None\n",
    "# assert FOLDERNAME is not None, \"[!] Enter the foldername.\"\n",
    "\n",
    "# Now that we've mounted your Drive, this ensures that\n",
    "# the Python interpreter of the Colab VM can load\n",
    "# python files from within it.\n",
    "import sys\n",
    "# sys.path.append('/content/drive/My Drive/{}'.format(FOLDERNAME))\n",
    "\n",
    "# This downloads the CIFAR-10 dataset to your Drive\n",
    "# if it doesn't already exist.\n",
    "# %cd /content/drive/My\\ Drive/$FOLDERNAME/cs231n/datasets/\n",
    "# !bash get_datasets.sh\n",
    "# %cd /content/drive/My\\ Drive/$FOLDERNAME"
   ]
  },
  {
   "cell_type": "markdown",
   "id": "26fdca1c",
   "metadata": {
    "tags": [
     "pdf-title"
    ]
   },
   "source": [
    "# Softmax exercise\n",
    "\n",
    "*Complete and hand in this completed worksheet (including its outputs and any supporting code outside of the worksheet) with your assignment submission. For more details see the [assignments page](http://vision.stanford.edu/teaching/cs231n/assignments.html) on the course website.*\n",
    "\n",
    "This exercise is analogous to the SVM exercise. You will:\n",
    "\n",
    "- implement a fully-vectorized **loss function** for the Softmax classifier\n",
    "- implement the fully-vectorized expression for its **analytic gradient**\n",
    "- **check your implementation** with numerical gradient\n",
    "- use a validation set to **tune the learning rate and regularization** strength\n",
    "- **optimize** the loss function with **SGD**\n",
    "- **visualize** the final learned weights\n"
   ]
  },
  {
   "cell_type": "code",
   "execution_count": 2,
   "id": "1f12280f",
   "metadata": {
    "tags": [
     "pdf-ignore"
    ]
   },
   "outputs": [],
   "source": [
    "import random\n",
    "import numpy as np\n",
    "from cs231n.data_utils import load_CIFAR10\n",
    "import matplotlib.pyplot as plt\n",
    "\n",
    "%matplotlib inline\n",
    "plt.rcParams['figure.figsize'] = (10.0, 8.0) # set default size of plots\n",
    "plt.rcParams['image.interpolation'] = 'nearest'\n",
    "plt.rcParams['image.cmap'] = 'gray'\n",
    "\n",
    "# for auto-reloading extenrnal modules\n",
    "# see http://stackoverflow.com/questions/1907993/autoreload-of-modules-in-ipython\n",
    "%load_ext autoreload\n",
    "%autoreload 2"
   ]
  },
  {
   "cell_type": "code",
   "execution_count": 3,
   "id": "ab106c82",
   "metadata": {
    "tags": [
     "pdf-ignore"
    ]
   },
   "outputs": [
    {
     "name": "stdout",
     "output_type": "stream",
     "text": [
      "Train data shape:  (49000, 3073)\n",
      "Train labels shape:  (49000,)\n",
      "Validation data shape:  (1000, 3073)\n",
      "Validation labels shape:  (1000,)\n",
      "Test data shape:  (1000, 3073)\n",
      "Test labels shape:  (1000,)\n",
      "dev data shape:  (500, 3073)\n",
      "dev labels shape:  (500,)\n"
     ]
    }
   ],
   "source": [
    "def get_CIFAR10_data(num_training=49000, num_validation=1000, num_test=1000, num_dev=500):\n",
    "    \"\"\"\n",
    "    Load the CIFAR-10 dataset from disk and perform preprocessing to prepare\n",
    "    it for the linear classifier. These are the same steps as we used for the\n",
    "    SVM, but condensed to a single function.  \n",
    "    \"\"\"\n",
    "    # Load the raw CIFAR-10 data\n",
    "    cifar10_dir = 'cs231n/datasets/cifar-10-batches-py'\n",
    "    \n",
    "    # Cleaning up variables to prevent loading data multiple times (which may cause memory issue)\n",
    "    try:\n",
    "       del X_train, y_train\n",
    "       del X_test, y_test\n",
    "       print('Clear previously loaded data.')\n",
    "    except:\n",
    "       pass\n",
    "\n",
    "    X_train, y_train, X_test, y_test = load_CIFAR10(cifar10_dir)\n",
    "    \n",
    "    # subsample the data\n",
    "    mask = list(range(num_training, num_training + num_validation))\n",
    "    X_val = X_train[mask]\n",
    "    y_val = y_train[mask]\n",
    "    mask = list(range(num_training))\n",
    "    X_train = X_train[mask]\n",
    "    y_train = y_train[mask]\n",
    "    mask = list(range(num_test))\n",
    "    X_test = X_test[mask]\n",
    "    y_test = y_test[mask]\n",
    "    mask = np.random.choice(num_training, num_dev, replace=False)\n",
    "    X_dev = X_train[mask]\n",
    "    y_dev = y_train[mask]\n",
    "    \n",
    "    # Preprocessing: reshape the image data into rows\n",
    "    X_train = np.reshape(X_train, (X_train.shape[0], -1))\n",
    "    X_val = np.reshape(X_val, (X_val.shape[0], -1))\n",
    "    X_test = np.reshape(X_test, (X_test.shape[0], -1))\n",
    "    X_dev = np.reshape(X_dev, (X_dev.shape[0], -1))\n",
    "    \n",
    "    # Normalize the data: subtract the mean image\n",
    "    mean_image = np.mean(X_train, axis = 0)\n",
    "    X_train -= mean_image\n",
    "    X_val -= mean_image\n",
    "    X_test -= mean_image\n",
    "    X_dev -= mean_image\n",
    "    \n",
    "    # add bias dimension and transform into columns\n",
    "    X_train = np.hstack([X_train, np.ones((X_train.shape[0], 1))])\n",
    "    X_val = np.hstack([X_val, np.ones((X_val.shape[0], 1))])\n",
    "    X_test = np.hstack([X_test, np.ones((X_test.shape[0], 1))])\n",
    "    X_dev = np.hstack([X_dev, np.ones((X_dev.shape[0], 1))])\n",
    "    \n",
    "    return X_train, y_train, X_val, y_val, X_test, y_test, X_dev, y_dev\n",
    "\n",
    "\n",
    "# Invoke the above function to get our data.\n",
    "X_train, y_train, X_val, y_val, X_test, y_test, X_dev, y_dev = get_CIFAR10_data()\n",
    "print('Train data shape: ', X_train.shape)\n",
    "print('Train labels shape: ', y_train.shape)\n",
    "print('Validation data shape: ', X_val.shape)\n",
    "print('Validation labels shape: ', y_val.shape)\n",
    "print('Test data shape: ', X_test.shape)\n",
    "print('Test labels shape: ', y_test.shape)\n",
    "print('dev data shape: ', X_dev.shape)\n",
    "print('dev labels shape: ', y_dev.shape)"
   ]
  },
  {
   "cell_type": "markdown",
   "id": "4721c3cb",
   "metadata": {},
   "source": [
    "## Softmax Classifier\n",
    "\n",
    "Your code for this section will all be written inside `cs231n/classifiers/softmax.py`.\n"
   ]
  },
  {
   "cell_type": "code",
   "execution_count": 13,
   "id": "d42765cd",
   "metadata": {},
   "outputs": [
    {
     "name": "stdout",
     "output_type": "stream",
     "text": [
      "loss: 2.299209\n",
      "sanity check: 2.302585\n"
     ]
    }
   ],
   "source": [
    "# First implement the naive softmax loss function with nested loops.\n",
    "# Open the file cs231n/classifiers/softmax.py and implement the\n",
    "# softmax_loss_naive function.\n",
    "\n",
    "from cs231n.classifiers.softmax import softmax_loss_naive\n",
    "import time\n",
    "\n",
    "# Generate a random softmax weight matrix and use it to compute the loss.\n",
    "W = np.random.randn(3073, 10) * 0.0001\n",
    "loss, grad = softmax_loss_naive(W, X_dev, y_dev, 0.0)\n",
    "\n",
    "# As a rough sanity check, our loss should be something close to -log(0.1).\n",
    "print('loss: %f' % loss)\n",
    "print('sanity check: %f' % (-np.log(0.1)))"
   ]
  },
  {
   "cell_type": "markdown",
   "id": "6f88764e",
   "metadata": {
    "tags": [
     "pdf-inline"
    ]
   },
   "source": [
    "**Inline Question 1**\n",
    "\n",
    "Why do we expect our loss to be close to -log(0.1)? Explain briefly.**\n",
    "\n",
    "$\\color{blue}{\\textit Your Answer:}$ *Fill this in* \n",
    "\n",
    "there are 10 classes so without training, each class gets 10% probability"
   ]
  },
  {
   "cell_type": "code",
   "execution_count": 14,
   "id": "4c2626ef",
   "metadata": {},
   "outputs": [
    {
     "name": "stdout",
     "output_type": "stream",
     "text": [
      "numerical: -0.871267 analytic: -0.871267, relative error: 4.735480e-08\n",
      "numerical: -0.537559 analytic: -0.537559, relative error: 5.215954e-08\n",
      "numerical: -3.116254 analytic: -3.116254, relative error: 2.544997e-08\n",
      "numerical: -1.627922 analytic: -1.627922, relative error: 7.823536e-09\n",
      "numerical: 0.194813 analytic: 0.194813, relative error: 2.908691e-07\n",
      "numerical: -1.741848 analytic: -1.741848, relative error: 2.762410e-08\n",
      "numerical: -4.111784 analytic: -4.111785, relative error: 2.472092e-08\n",
      "numerical: 0.982647 analytic: 0.982647, relative error: 6.165966e-09\n",
      "numerical: 2.288746 analytic: 2.288746, relative error: 1.671654e-08\n",
      "numerical: 0.099139 analytic: 0.099139, relative error: 7.508375e-07\n",
      "numerical: 0.308202 analytic: 0.308202, relative error: 6.943661e-09\n",
      "numerical: 2.430703 analytic: 2.430703, relative error: 8.483536e-09\n",
      "numerical: -3.784666 analytic: -3.784666, relative error: 4.516980e-09\n",
      "numerical: -0.357566 analytic: -0.357566, relative error: 2.743089e-08\n",
      "numerical: 2.366032 analytic: 2.366032, relative error: 2.011770e-08\n",
      "numerical: 1.597464 analytic: 1.597464, relative error: 2.130141e-09\n",
      "numerical: 1.138200 analytic: 1.138199, relative error: 9.541589e-08\n",
      "numerical: -1.074582 analytic: -1.074582, relative error: 1.479820e-08\n",
      "numerical: -0.359393 analytic: -0.359394, relative error: 1.587194e-07\n",
      "numerical: -3.456413 analytic: -3.456413, relative error: 5.652982e-10\n"
     ]
    }
   ],
   "source": [
    "# Complete the implementation of softmax_loss_naive and implement a (naive)\n",
    "# version of the gradient that uses nested loops.\n",
    "loss, grad = softmax_loss_naive(W, X_dev, y_dev, 0.0)\n",
    "\n",
    "# As we did for the SVM, use numeric gradient checking as a debugging tool.\n",
    "# The numeric gradient should be close to the analytic gradient.\n",
    "from cs231n.gradient_check import grad_check_sparse\n",
    "f = lambda w: softmax_loss_naive(w, X_dev, y_dev, 0.0)[0]\n",
    "grad_numerical = grad_check_sparse(f, W, grad, 10)\n",
    "\n",
    "# similar to SVM case, do another gradient check with regularization\n",
    "loss, grad = softmax_loss_naive(W, X_dev, y_dev, 5e1)\n",
    "f = lambda w: softmax_loss_naive(w, X_dev, y_dev, 5e1)[0]\n",
    "grad_numerical = grad_check_sparse(f, W, grad, 10)"
   ]
  },
  {
   "cell_type": "code",
   "execution_count": 10,
   "id": "434e757f",
   "metadata": {},
   "outputs": [
    {
     "name": "stdout",
     "output_type": "stream",
     "text": [
      "naive loss: 2.395737e+00 computed in 0.005002s\n",
      "vectorized loss: 2.395737e+00 computed in 0.006035s\n",
      "Loss difference: 0.000000\n",
      "Gradient difference: 0.000000\n"
     ]
    }
   ],
   "source": [
    "# Now that we have a naive implementation of the softmax loss function and its gradient,\n",
    "# implement a vectorized version in softmax_loss_vectorized.\n",
    "# The two versions should compute the same results, but the vectorized version should be\n",
    "# much faster.\n",
    "tic = time.time()\n",
    "loss_naive, grad_naive = softmax_loss_naive(W, X_dev, y_dev, 0.000005)\n",
    "toc = time.time()\n",
    "print('naive loss: %e computed in %fs' % (loss_naive, toc - tic))\n",
    "\n",
    "from cs231n.classifiers.softmax import softmax_loss_vectorized\n",
    "tic = time.time()\n",
    "loss_vectorized, grad_vectorized = softmax_loss_vectorized(W, X_dev, y_dev, 0.000005)\n",
    "toc = time.time()\n",
    "print('vectorized loss: %e computed in %fs' % (loss_vectorized, toc - tic))\n",
    "\n",
    "# As we did for the SVM, we use the Frobenius norm to compare the two versions\n",
    "# of the gradient.\n",
    "grad_difference = np.linalg.norm(grad_naive - grad_vectorized, ord='fro')\n",
    "print('Loss difference: %f' % np.abs(loss_naive - loss_vectorized))\n",
    "print('Gradient difference: %f' % grad_difference)"
   ]
  },
  {
   "cell_type": "code",
   "execution_count": 15,
   "id": "2e5e374d",
   "metadata": {
    "tags": [
     "code"
    ],
    "test": "tuning"
   },
   "outputs": [
    {
     "name": "stdout",
     "output_type": "stream",
     "text": [
      "iteration 0 / 1500: loss 777.352868\n",
      "iteration 100 / 1500: loss 285.208223\n",
      "iteration 200 / 1500: loss 105.721639\n",
      "iteration 300 / 1500: loss 40.007768\n",
      "iteration 400 / 1500: loss 16.037168\n",
      "iteration 500 / 1500: loss 7.166940\n",
      "iteration 600 / 1500: loss 3.962738\n",
      "iteration 700 / 1500: loss 2.756316\n",
      "iteration 800 / 1500: loss 2.307276\n",
      "iteration 900 / 1500: loss 2.193597\n",
      "iteration 1000 / 1500: loss 2.163289\n",
      "iteration 1100 / 1500: loss 2.143023\n",
      "iteration 1200 / 1500: loss 2.108348\n",
      "iteration 1300 / 1500: loss 2.068639\n",
      "iteration 1400 / 1500: loss 2.055463\n",
      "training accuracy: 0.328714\n",
      "validation accuracy: 0.340000\n",
      "iteration 0 / 1500: loss 1531.079566\n",
      "iteration 100 / 1500: loss 206.365784\n",
      "iteration 200 / 1500: loss 29.438240\n",
      "iteration 300 / 1500: loss 5.775584\n",
      "iteration 400 / 1500: loss 2.594378\n",
      "iteration 500 / 1500: loss 2.197379\n",
      "iteration 600 / 1500: loss 2.179987\n",
      "iteration 700 / 1500: loss 2.142406\n",
      "iteration 800 / 1500: loss 2.160467\n",
      "iteration 900 / 1500: loss 2.116640\n",
      "iteration 1000 / 1500: loss 2.138128\n",
      "iteration 1100 / 1500: loss 2.139042\n",
      "iteration 1200 / 1500: loss 2.128438\n",
      "iteration 1300 / 1500: loss 2.112814\n",
      "iteration 1400 / 1500: loss 2.157395\n",
      "training accuracy: 0.293857\n",
      "validation accuracy: 0.303000\n",
      "iteration 0 / 1500: loss 774.782081\n",
      "iteration 100 / 1500: loss 6.953534\n",
      "iteration 200 / 1500: loss 2.125539\n",
      "iteration 300 / 1500: loss 2.049827\n",
      "iteration 400 / 1500: loss 2.089485\n",
      "iteration 500 / 1500: loss 2.174354\n",
      "iteration 600 / 1500: loss 2.063722\n",
      "iteration 700 / 1500: loss 2.088313\n",
      "iteration 800 / 1500: loss 2.053570\n",
      "iteration 900 / 1500: loss 2.107986\n",
      "iteration 1000 / 1500: loss 2.065236\n",
      "iteration 1100 / 1500: loss 2.113410\n",
      "iteration 1200 / 1500: loss 2.107786\n",
      "iteration 1300 / 1500: loss 2.107970\n",
      "iteration 1400 / 1500: loss 2.129590\n",
      "training accuracy: 0.324224\n",
      "validation accuracy: 0.323000\n",
      "iteration 0 / 1500: loss 1527.399257\n",
      "iteration 100 / 1500: loss 2.196459\n",
      "iteration 200 / 1500: loss 2.135043\n",
      "iteration 300 / 1500: loss 2.215052\n",
      "iteration 400 / 1500: loss 2.130163\n",
      "iteration 500 / 1500: loss 2.125283\n",
      "iteration 600 / 1500: loss 2.090687\n",
      "iteration 700 / 1500: loss 2.148437\n",
      "iteration 800 / 1500: loss 2.144959\n",
      "iteration 900 / 1500: loss 2.124798\n",
      "iteration 1000 / 1500: loss 2.167550\n",
      "iteration 1100 / 1500: loss 2.153320\n",
      "iteration 1200 / 1500: loss 2.168622\n",
      "iteration 1300 / 1500: loss 2.175265\n",
      "iteration 1400 / 1500: loss 2.132066\n",
      "training accuracy: 0.294939\n",
      "validation accuracy: 0.304000\n",
      "lr 1.000000e-07 reg 2.500000e+04 train accuracy: 0.328714 val accuracy: 0.340000\n",
      "lr 1.000000e-07 reg 5.000000e+04 train accuracy: 0.293857 val accuracy: 0.303000\n",
      "lr 5.000000e-07 reg 2.500000e+04 train accuracy: 0.324224 val accuracy: 0.323000\n",
      "lr 5.000000e-07 reg 5.000000e+04 train accuracy: 0.294939 val accuracy: 0.304000\n",
      "best validation accuracy achieved during cross-validation: 0.340000\n"
     ]
    }
   ],
   "source": [
    "# Use the validation set to tune hyperparameters (regularization strength and\n",
    "# learning rate). You should experiment with different ranges for the learning\n",
    "# rates and regularization strengths; if you are careful you should be able to\n",
    "# get a classification accuracy of over 0.35 on the validation set.\n",
    "\n",
    "from cs231n.classifiers import Softmax\n",
    "results = {}\n",
    "best_val = -1\n",
    "best_softmax = None\n",
    "\n",
    "################################################################################\n",
    "# TODO:                                                                        #\n",
    "# Use the validation set to set the learning rate and regularization strength. #\n",
    "# This should be identical to the validation that you did for the SVM; save    #\n",
    "# the best trained softmax classifer in best_softmax.                          #\n",
    "################################################################################\n",
    "\n",
    "# Provided as a reference. You may or may not want to change these hyperparameters\n",
    "learning_rates = [1e-7, 5e-7]\n",
    "regularization_strengths = [2.5e4, 5e4]\n",
    "\n",
    "# *****START OF YOUR CODE (DO NOT DELETE/MODIFY THIS LINE)*****\n",
    "\n",
    "for learning_rate in learning_rates:\n",
    "    for regularization_strength in regularization_strengths:\n",
    "        sm = Softmax()\n",
    "        \n",
    "        loss_hist = sm.train(X_train, y_train, learning_rate=learning_rate, reg=regularization_strength,\n",
    "                              num_iters=1500, verbose=True)\n",
    "        y_train_pred = sm.predict(X_train)\n",
    "        train_acc = np.mean(y_train == y_train_pred)\n",
    "        print('training accuracy: %f' % (train_acc, ))\n",
    "        y_val_pred = sm.predict(X_val)\n",
    "        val_acc = np.mean(y_val == y_val_pred)\n",
    "        print('validation accuracy: %f' % (val_acc, ))\n",
    "        results[(learning_rate, regularization_strength)] = (train_acc, val_acc)\n",
    "        if val_acc > best_val:\n",
    "            best_val = val_acc\n",
    "            best_softmax = sm\n",
    "\n",
    "# *****END OF YOUR CODE (DO NOT DELETE/MODIFY THIS LINE)*****\n",
    "    \n",
    "# Print out results.\n",
    "for lr, reg in sorted(results):\n",
    "    train_accuracy, val_accuracy = results[(lr, reg)]\n",
    "    print('lr %e reg %e train accuracy: %f val accuracy: %f' % (\n",
    "                lr, reg, train_accuracy, val_accuracy))\n",
    "    \n",
    "print('best validation accuracy achieved during cross-validation: %f' % best_val)"
   ]
  },
  {
   "cell_type": "code",
   "execution_count": 16,
   "id": "deb37cc6",
   "metadata": {
    "test": "test"
   },
   "outputs": [
    {
     "name": "stdout",
     "output_type": "stream",
     "text": [
      "softmax on raw pixels final test set accuracy: 0.342000\n"
     ]
    }
   ],
   "source": [
    "# evaluate on test set\n",
    "# Evaluate the best softmax on test set\n",
    "y_test_pred = best_softmax.predict(X_test)\n",
    "test_accuracy = np.mean(y_test == y_test_pred)\n",
    "print('softmax on raw pixels final test set accuracy: %f' % (test_accuracy, ))"
   ]
  },
  {
   "cell_type": "markdown",
   "id": "df501314",
   "metadata": {
    "tags": [
     "pdf-inline"
    ]
   },
   "source": [
    "**Inline Question 2** - *True or False*\n",
    "\n",
    "Suppose the overall training loss is defined as the sum of the per-datapoint loss over all training examples. It is possible to add a new datapoint to a training set that would leave the SVM loss unchanged, but this is not the case with the Softmax classifier loss.\n",
    "\n",
    "$\\color{blue}{\\textit Your Answer:}$\n",
    "\n",
    "\n",
    "$\\color{blue}{\\textit Your Explanation:}$\n",
    "\n",
    "Sorta true. If the new point is correctly classified with a good enough margin on the SVM, it does not contribute to the loss. However, for softmax, it will contribute an exp(xW) term to all denominators, which will affect losses if this term is large enough\n"
   ]
  },
  {
   "cell_type": "code",
   "execution_count": 17,
   "id": "ade33adc",
   "metadata": {},
   "outputs": [
    {
     "data": {
      "image/png": "[encoded data removed]",
      "text/plain": [
       "<Figure size 1000x800 with 10 Axes>"
      ]
     },
     "metadata": {},
     "output_type": "display_data"
    }
   ],
   "source": [
    "# Visualize the learned weights for each class\n",
    "w = best_softmax.W[:-1,:] # strip out the bias\n",
    "w = w.reshape(32, 32, 3, 10)\n",
    "\n",
    "w_min, w_max = np.min(w), np.max(w)\n",
    "\n",
    "classes = ['plane', 'car', 'bird', 'cat', 'deer', 'dog', 'frog', 'horse', 'ship', 'truck']\n",
    "for i in range(10):\n",
    "    plt.subplot(2, 5, i + 1)\n",
    "    \n",
    "    # Rescale the weights to be between 0 and 255\n",
    "    wimg = 255.0 * (w[:, :, :, i].squeeze() - w_min) / (w_max - w_min)\n",
    "    plt.imshow(wimg.astype('uint8'))\n",
    "    plt.axis('off')\n",
    "    plt.title(classes[i])"
   ]
  },
  {
   "cell_type": "code",
   "execution_count": null,
   "id": "4d5d17f8",
   "metadata": {},
   "outputs": [],
   "source": []
  }
 ],
 "metadata": {
  "kernelspec": {
   "display_name": "Python 3 (ipykernel)",
   "language": "python",
   "name": "python3"
  },
  "language_info": {
   "codemirror_mode": {
    "name": "ipython",
    "version": 3
   },
   "file_extension": ".py",
   "mimetype": "text/x-python",
   "name": "python",
   "nbconvert_exporter": "python",
   "pygments_lexer": "ipython3",
   "version": "3.10.9"
  }
 },
 "nbformat": 4,
 "nbformat_minor": 5
}
